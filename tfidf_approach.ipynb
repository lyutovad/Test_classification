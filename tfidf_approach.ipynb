{
 "cells": [
  {
   "cell_type": "code",
   "execution_count": 1,
   "id": "65a41e81",
   "metadata": {},
   "outputs": [],
   "source": [
    "import pandas as pd\n",
    "import numpy as np\n",
    "from sklearn.preprocessing import LabelEncoder\n",
    "from sklearn.model_selection import train_test_split\n",
    "from sklearn.metrics import classification_report\n",
    "from string import punctuation\n",
    "import nltk\n",
    "import re\n",
    "from nltk.stem import WordNetLemmatizer\n",
    "from nltk.tokenize import word_tokenize\n",
    "from stop_words import get_stop_words\n",
    "\n",
    "from collections import Counter\n",
    "\n",
    "import matplotlib.pyplot as plt\n",
    "\n",
    "from sklearn.linear_model import LogisticRegression\n",
    "from sklearn.feature_extraction.text import CountVectorizer, TfidfVectorizer, HashingVectorizer"
   ]
  },
  {
   "cell_type": "code",
   "execution_count": 2,
   "id": "a9253128",
   "metadata": {},
   "outputs": [],
   "source": [
    "import warnings\n",
    "warnings.filterwarnings(\"ignore\")"
   ]
  },
  {
   "cell_type": "code",
   "execution_count": 3,
   "id": "db9a3c92",
   "metadata": {},
   "outputs": [
    {
     "data": {
      "text/html": [
       "<div>\n",
       "<style scoped>\n",
       "    .dataframe tbody tr th:only-of-type {\n",
       "        vertical-align: middle;\n",
       "    }\n",
       "\n",
       "    .dataframe tbody tr th {\n",
       "        vertical-align: top;\n",
       "    }\n",
       "\n",
       "    .dataframe thead th {\n",
       "        text-align: right;\n",
       "    }\n",
       "</style>\n",
       "<table border=\"1\" class=\"dataframe\">\n",
       "  <thead>\n",
       "    <tr style=\"text-align: right;\">\n",
       "      <th></th>\n",
       "      <th>text</th>\n",
       "      <th>label</th>\n",
       "    </tr>\n",
       "  </thead>\n",
       "  <tbody>\n",
       "    <tr>\n",
       "      <th>1378</th>\n",
       "      <td>Правительство утвердило повышение экспортной п...</td>\n",
       "      <td>меры поддержки</td>\n",
       "    </tr>\n",
       "    <tr>\n",
       "      <th>1449</th>\n",
       "      <td>Путин заявил о попытках извне помешать граждан...</td>\n",
       "      <td>не по теме</td>\n",
       "    </tr>\n",
       "    <tr>\n",
       "      <th>149</th>\n",
       "      <td>Байден отшутился в ответ на вопросы журналисто...</td>\n",
       "      <td>политика</td>\n",
       "    </tr>\n",
       "  </tbody>\n",
       "</table>\n",
       "</div>"
      ],
      "text/plain": [
       "                                                   text           label\n",
       "1378  Правительство утвердило повышение экспортной п...  меры поддержки\n",
       "1449  Путин заявил о попытках извне помешать граждан...      не по теме\n",
       "149   Байден отшутился в ответ на вопросы журналисто...        политика"
      ]
     },
     "execution_count": 3,
     "metadata": {},
     "output_type": "execute_result"
    }
   ],
   "source": [
    "df = pd.read_csv('data.csv')\n",
    "df.sample(3)"
   ]
  },
  {
   "cell_type": "code",
   "execution_count": 4,
   "id": "97239059",
   "metadata": {},
   "outputs": [],
   "source": [
    "stopwordslist = set(get_stop_words(\"russian\")) #+ ['это', 'которые']\n",
    "lemmatizer = WordNetLemmatizer()\n",
    "ptrn_url = r'\\w+:\\/+[a-zA-Z0-9\\.\\/\\_\\:\\-]+'\n",
    "ptrn_meta = r'(\\/.\\w+){1,3}'\n",
    "ptrn_meta2 = r\"\\[@[\\w]+\\=(.){1,2}\\w+\\:\\w+\\\\']\"\n",
    "ptrn_data = r'(\\d+\\.){2}\\d{4}|(\\d+\\-\\d+){2}\\d+\\w\\d+:\\d+'\n",
    "ptrn_phone = r'\\d[\\ \\d{3}]+\\-\\d+'\n",
    "# ptrn = r'[^a-zA-Zа-яА-Я0-9\\%]'\n",
    "ptrn = r'[^а-яА-Я0-9\\%]'\n",
    "\n",
    "def remove_url(text):\n",
    "    text = re.sub(ptrn_url, '', text)\n",
    "    text = re.sub(ptrn_meta, '', text)\n",
    "    text = re.sub(ptrn_meta2, '', text)\n",
    "    text = re.sub(ptrn_data, '', text)\n",
    "    text = re.sub(ptrn_phone, '', text)\n",
    "    return text\n",
    "\n",
    "def words_only(text):\n",
    "    text=str(text)\n",
    "    return text.lower()\n",
    "\n",
    "def remove_punkt(text):\n",
    "    return re.sub(ptrn, ' ', text)\n",
    "\n",
    "def to_token(text):\n",
    "    return word_tokenize(text)\n",
    "\n",
    "def remove_stopwords(text):\n",
    "    text_list = [w for w in text if w not in stopwordslist]\n",
    "    return ' '.join(word for word in text_list)\n",
    "\n",
    "def morphe_text(text):\n",
    "    text = [lemmatizer.lemmatize(word) for word in text.split() if word not in stopwordslist]\n",
    "    return \" \".join(text)\n",
    "\n",
    "def normalize_text(text):\n",
    "    text = remove_url(text)\n",
    "    text = words_only(text)\n",
    "    text = remove_punkt(text)\n",
    "    text = to_token(text)\n",
    "    text = remove_stopwords(text)\n",
    "    text = morphe_text(text)\n",
    "    return text"
   ]
  },
  {
   "cell_type": "code",
   "execution_count": 5,
   "id": "11713c4b",
   "metadata": {},
   "outputs": [],
   "source": [
    "df['Content_norm'] = df['text'].apply(normalize_text)"
   ]
  },
  {
   "cell_type": "code",
   "execution_count": 6,
   "id": "acd0eeb6",
   "metadata": {},
   "outputs": [
    {
     "data": {
      "text/html": [
       "<div>\n",
       "<style scoped>\n",
       "    .dataframe tbody tr th:only-of-type {\n",
       "        vertical-align: middle;\n",
       "    }\n",
       "\n",
       "    .dataframe tbody tr th {\n",
       "        vertical-align: top;\n",
       "    }\n",
       "\n",
       "    .dataframe thead th {\n",
       "        text-align: right;\n",
       "    }\n",
       "</style>\n",
       "<table border=\"1\" class=\"dataframe\">\n",
       "  <thead>\n",
       "    <tr style=\"text-align: right;\">\n",
       "      <th></th>\n",
       "      <th>text</th>\n",
       "      <th>label</th>\n",
       "      <th>Content_norm</th>\n",
       "    </tr>\n",
       "  </thead>\n",
       "  <tbody>\n",
       "    <tr>\n",
       "      <th>1343</th>\n",
       "      <td>Посол Индии в России рассказал, как себя чувст...</td>\n",
       "      <td>COVID-19</td>\n",
       "      <td>посол индии россии рассказал чувствует прививк...</td>\n",
       "    </tr>\n",
       "    <tr>\n",
       "      <th>1781</th>\n",
       "      <td>Слуцкий заявил, что добиться выхода России из ...</td>\n",
       "      <td>мнения</td>\n",
       "      <td>слуцкий заявил добиться выхода россии пасе пол...</td>\n",
       "    </tr>\n",
       "    <tr>\n",
       "      <th>1802</th>\n",
       "      <td>Соратник Навального рассказал, как его вывезли...</td>\n",
       "      <td>не по теме</td>\n",
       "      <td>соратник навального рассказал вывезли границу ...</td>\n",
       "    </tr>\n",
       "    <tr>\n",
       "      <th>2155</th>\n",
       "      <td>🧙‍♀ Гороскоп на сегодня, 26 января, для всех з...</td>\n",
       "      <td>не по теме</td>\n",
       "      <td>гороскоп 26 января знаков зодиака ежедневный г...</td>\n",
       "    </tr>\n",
       "  </tbody>\n",
       "</table>\n",
       "</div>"
      ],
      "text/plain": [
       "                                                   text       label  \\\n",
       "1343  Посол Индии в России рассказал, как себя чувст...    COVID-19   \n",
       "1781  Слуцкий заявил, что добиться выхода России из ...      мнения   \n",
       "1802  Соратник Навального рассказал, как его вывезли...  не по теме   \n",
       "2155  🧙‍♀ Гороскоп на сегодня, 26 января, для всех з...  не по теме   \n",
       "\n",
       "                                           Content_norm  \n",
       "1343  посол индии россии рассказал чувствует прививк...  \n",
       "1781  слуцкий заявил добиться выхода россии пасе пол...  \n",
       "1802  соратник навального рассказал вывезли границу ...  \n",
       "2155  гороскоп 26 января знаков зодиака ежедневный г...  "
      ]
     },
     "execution_count": 6,
     "metadata": {},
     "output_type": "execute_result"
    }
   ],
   "source": [
    "dubl = df.duplicated(['Content_norm'])\n",
    "df[dubl == True]"
   ]
  },
  {
   "cell_type": "code",
   "execution_count": 7,
   "id": "472a4479",
   "metadata": {},
   "outputs": [
    {
     "data": {
      "text/html": [
       "<div>\n",
       "<style scoped>\n",
       "    .dataframe tbody tr th:only-of-type {\n",
       "        vertical-align: middle;\n",
       "    }\n",
       "\n",
       "    .dataframe tbody tr th {\n",
       "        vertical-align: top;\n",
       "    }\n",
       "\n",
       "    .dataframe thead th {\n",
       "        text-align: right;\n",
       "    }\n",
       "</style>\n",
       "<table border=\"1\" class=\"dataframe\">\n",
       "  <thead>\n",
       "    <tr style=\"text-align: right;\">\n",
       "      <th></th>\n",
       "      <th>text</th>\n",
       "      <th>label</th>\n",
       "      <th>Content_norm</th>\n",
       "    </tr>\n",
       "  </thead>\n",
       "  <tbody>\n",
       "    <tr>\n",
       "      <th>1959</th>\n",
       "      <td>Умер бывший вице-премьер Сергей Приходько\\nУме...</td>\n",
       "      <td>не по теме</td>\n",
       "      <td>умер бывший вице премьер сергей приходько умер...</td>\n",
       "    </tr>\n",
       "    <tr>\n",
       "      <th>462</th>\n",
       "      <td>В сети обсудили указ о повышении пошлин на экс...</td>\n",
       "      <td>мнения</td>\n",
       "      <td>сети обсудили указ повышении пошлин экспорт пш...</td>\n",
       "    </tr>\n",
       "    <tr>\n",
       "      <th>1366</th>\n",
       "      <td>Пошлины на пшеницу в РФ понизят лишь в конце л...</td>\n",
       "      <td>торговля</td>\n",
       "      <td>пошлины пшеницу рф понизят конце лета 2021 про...</td>\n",
       "    </tr>\n",
       "  </tbody>\n",
       "</table>\n",
       "</div>"
      ],
      "text/plain": [
       "                                                   text       label  \\\n",
       "1959  Умер бывший вице-премьер Сергей Приходько\\nУме...  не по теме   \n",
       "462   В сети обсудили указ о повышении пошлин на экс...      мнения   \n",
       "1366  Пошлины на пшеницу в РФ понизят лишь в конце л...    торговля   \n",
       "\n",
       "                                           Content_norm  \n",
       "1959  умер бывший вице премьер сергей приходько умер...  \n",
       "462   сети обсудили указ повышении пошлин экспорт пш...  \n",
       "1366  пошлины пшеницу рф понизят конце лета 2021 про...  "
      ]
     },
     "execution_count": 7,
     "metadata": {},
     "output_type": "execute_result"
    }
   ],
   "source": [
    "df = df[dubl == False]\n",
    "df.sample(3)"
   ]
  },
  {
   "cell_type": "code",
   "execution_count": 8,
   "id": "73efe31a",
   "metadata": {},
   "outputs": [],
   "source": [
    "X_train, X_test, y_train, y_test = train_test_split(df['Content_norm'], df['label'], test_size=0.33, random_state=42, stratify=df['label'])\n"
   ]
  },
  {
   "cell_type": "code",
   "execution_count": 9,
   "id": "077e31a1",
   "metadata": {},
   "outputs": [
    {
     "name": "stdout",
     "output_type": "stream",
     "text": [
      "1272575\n"
     ]
    },
    {
     "data": {
      "text/plain": [
       "['34',\n",
       " 'регионе',\n",
       " 'стало',\n",
       " 'пахнуть',\n",
       " 'россией',\n",
       " '34',\n",
       " 'главные',\n",
       " 'претензии',\n",
       " 'пашиняну',\n",
       " 'армении']"
      ]
     },
     "execution_count": 9,
     "metadata": {},
     "output_type": "execute_result"
    }
   ],
   "source": [
    "corpus = [token for new in df[\"Content_norm\"] for token in word_tokenize(new)]\n",
    "print(len(corpus))\n",
    "corpus[:10]"
   ]
  },
  {
   "cell_type": "code",
   "execution_count": 10,
   "id": "fe3ed596",
   "metadata": {},
   "outputs": [
    {
     "data": {
      "text/plain": [
       "[('января', 9207),\n",
       " ('россии', 8809),\n",
       " ('2021', 6188),\n",
       " ('сша', 5127),\n",
       " ('текст', 4910),\n",
       " ('заявил', 4396),\n",
       " ('ранее', 4163),\n",
       " ('новости', 3444),\n",
       " ('%', 3185),\n",
       " ('коронавируса', 3023)]"
      ]
     },
     "execution_count": 10,
     "metadata": {},
     "output_type": "execute_result"
    }
   ],
   "source": [
    "freq_dict = Counter(corpus)\n",
    "freq_dict_sorted= sorted(freq_dict.items(), key=lambda x: -x[1])\n",
    "list(freq_dict_sorted)[:10]"
   ]
  },
  {
   "cell_type": "code",
   "execution_count": 11,
   "id": "732278a0",
   "metadata": {},
   "outputs": [
    {
     "data": {
      "image/png": "[encoded data removed]",
      "text/plain": [
       "<Figure size 432x288 with 1 Axes>"
      ]
     },
     "metadata": {
      "needs_background": "light"
     },
     "output_type": "display_data"
    }
   ],
   "source": [
    "first_100_freqs = [freq for word, freq in freq_dict_sorted[:1000]]\n",
    "plt.plot(first_100_freqs)\n",
    "plt.show()"
   ]
  },
  {
   "cell_type": "code",
   "execution_count": 12,
   "id": "9fea1bc1",
   "metadata": {},
   "outputs": [
    {
     "data": {
      "text/plain": [
       "array(['COVID-19', 'Международные отношения', 'Россия',\n",
       "       'Социологические опросы', 'аналитика', 'военная тематика',\n",
       "       'инвестиция', 'меры поддержки', 'мнения', 'не по теме', 'политика',\n",
       "       'проекты', 'торговля'], dtype=object)"
      ]
     },
     "execution_count": 12,
     "metadata": {},
     "output_type": "execute_result"
    }
   ],
   "source": [
    "le = LabelEncoder()\n",
    "y_train = le.fit_transform(y_train) \n",
    "y_test = le.transform(y_test)\n",
    "le.classes_"
   ]
  },
  {
   "cell_type": "markdown",
   "id": "1c085b02",
   "metadata": {},
   "source": [
    "#### Смотрим токены с высокой частотой"
   ]
  },
  {
   "cell_type": "code",
   "execution_count": 13,
   "id": "f040917e",
   "metadata": {},
   "outputs": [
    {
     "name": "stdout",
     "output_type": "stream",
     "text": [
      "                         precision    recall  f1-score   support\n",
      "\n",
      "               COVID-19       0.70      0.63      0.66        90\n",
      "Международные отношения       0.20      0.60      0.30        20\n",
      "                 Россия       0.00      0.00      0.00         0\n",
      " Социологические опросы       0.00      0.00      0.00         0\n",
      "              аналитика       0.36      0.63      0.46        19\n",
      "       военная тематика       0.16      0.75      0.27         8\n",
      "             инвестиция       0.00      0.00      0.00         0\n",
      "         меры поддержки       0.00      0.00      0.00         0\n",
      "                 мнения       0.09      0.33      0.15        12\n",
      "             не по теме       0.93      0.61      0.73       449\n",
      "               политика       0.58      0.64      0.61       108\n",
      "                проекты       0.00      0.00      0.00         0\n",
      "               торговля       0.12      0.60      0.21         5\n",
      "\n",
      "               accuracy                           0.61       711\n",
      "              macro avg       0.24      0.37      0.26       711\n",
      "           weighted avg       0.78      0.61      0.67       711\n",
      "\n"
     ]
    }
   ],
   "source": [
    "tokens_high = [token[0] for token in freq_dict_sorted[:200]]\n",
    "\n",
    "vec = TfidfVectorizer(ngram_range=(1, 1), \n",
    "                      tokenizer=word_tokenize,\n",
    "                      vocabulary=tokens_high)\n",
    "bow = vec.fit_transform(X_train)\n",
    "clf = LogisticRegression(random_state=42)\n",
    "clf.fit(bow, y_train)\n",
    "pred_high = clf.predict(vec.transform(X_test))\n",
    "pred_high_proba = clf.predict_proba(vec.transform(X_test))\n",
    "print(classification_report(pred_high, y_test, target_names=le.classes_))"
   ]
  },
  {
   "cell_type": "markdown",
   "id": "dfba54fe",
   "metadata": {},
   "source": [
    "#### Смотрим токены со средней частотой"
   ]
  },
  {
   "cell_type": "code",
   "execution_count": 14,
   "id": "894850f4",
   "metadata": {},
   "outputs": [
    {
     "name": "stdout",
     "output_type": "stream",
     "text": [
      "                         precision    recall  f1-score   support\n",
      "\n",
      "               COVID-19       0.68      0.70      0.69        80\n",
      "Международные отношения       0.22      0.30      0.25        43\n",
      "                 Россия       0.00      0.00      0.00         1\n",
      " Социологические опросы       0.00      0.00      0.00         0\n",
      "              аналитика       0.27      0.39      0.32        23\n",
      "       военная тематика       0.43      0.50      0.46        32\n",
      "             инвестиция       0.33      0.50      0.40         2\n",
      "         меры поддержки       0.10      0.14      0.12         7\n",
      "                 мнения       0.33      0.30      0.31        47\n",
      "             не по теме       0.78      0.66      0.71       347\n",
      "               политика       0.49      0.52      0.51       111\n",
      "                проекты       0.00      0.00      0.00         0\n",
      "               торговля       0.25      0.33      0.29        18\n",
      "\n",
      "               accuracy                           0.57       711\n",
      "              macro avg       0.30      0.33      0.31       711\n",
      "           weighted avg       0.61      0.57      0.58       711\n",
      "\n"
     ]
    }
   ],
   "source": [
    "tokens_middle = [token[0] for token in freq_dict_sorted[200:800]]\n",
    "vec = CountVectorizer(ngram_range=(1, 1), \n",
    "                      tokenizer=word_tokenize,\n",
    "                      vocabulary=tokens_middle)\n",
    "bow = vec.fit_transform(X_train)\n",
    "clf = LogisticRegression(random_state=42)\n",
    "clf.fit(bow, y_train)\n",
    "pred_mid = clf.predict(vec.transform(X_test))\n",
    "print(classification_report(pred_mid, y_test, target_names=le.classes_))"
   ]
  },
  {
   "cell_type": "markdown",
   "id": "3c2d33e1",
   "metadata": {},
   "source": [
    "#### Смотрим токены с низкой частотой"
   ]
  },
  {
   "cell_type": "code",
   "execution_count": 15,
   "id": "c76f3fff",
   "metadata": {},
   "outputs": [
    {
     "name": "stdout",
     "output_type": "stream",
     "text": [
      "                         precision    recall  f1-score   support\n",
      "\n",
      "               COVID-19       0.71      0.76      0.73        76\n",
      "Международные отношения       0.32      0.49      0.39        39\n",
      "                 Россия       0.00      0.00      0.00         0\n",
      " Социологические опросы       0.00      0.00      0.00         0\n",
      "              аналитика       0.39      0.43      0.41        30\n",
      "       военная тематика       0.35      0.72      0.47        18\n",
      "             инвестиция       0.33      0.33      0.33         3\n",
      "         меры поддержки       0.10      0.25      0.14         4\n",
      "                 мнения       0.33      0.50      0.39        28\n",
      "             не по теме       0.91      0.68      0.78       390\n",
      "               политика       0.57      0.65      0.61       103\n",
      "                проекты       0.25      1.00      0.40         1\n",
      "               торговля       0.29      0.37      0.33        19\n",
      "\n",
      "               accuracy                           0.65       711\n",
      "              macro avg       0.35      0.48      0.38       711\n",
      "           weighted avg       0.72      0.65      0.67       711\n",
      "\n"
     ]
    }
   ],
   "source": [
    "tokens_low = [token[0] for token in freq_dict_sorted[800:]]\n",
    "vec = CountVectorizer(ngram_range=(1, 1), \n",
    "                      tokenizer=word_tokenize,\n",
    "                      vocabulary=tokens_low)\n",
    "bow = vec.fit_transform(X_train)\n",
    "clf = LogisticRegression(random_state=42)\n",
    "clf.fit(bow, y_train)\n",
    "pred_low = clf.predict(vec.transform(X_test))\n",
    "pred_low_proba = clf.predict_proba(vec.transform(X_test))\n",
    "print(classification_report(pred_low, y_test, target_names=le.classes_))"
   ]
  },
  {
   "cell_type": "markdown",
   "id": "5b583491",
   "metadata": {},
   "source": [
    "#### Обучение на всем корпусе"
   ]
  },
  {
   "cell_type": "code",
   "execution_count": 16,
   "id": "25b50ed9",
   "metadata": {},
   "outputs": [
    {
     "name": "stdout",
     "output_type": "stream",
     "text": [
      "                         precision    recall  f1-score   support\n",
      "\n",
      "               COVID-19       0.61      0.76      0.68        66\n",
      "Международные отношения       0.19      0.73      0.30        15\n",
      "                 Россия       0.00      0.00      0.00         0\n",
      " Социологические опросы       0.00      0.00      0.00         0\n",
      "              аналитика       0.24      0.73      0.36        11\n",
      "       военная тематика       0.11      1.00      0.20         4\n",
      "             инвестиция       0.00      0.00      0.00         0\n",
      "         меры поддержки       0.00      0.00      0.00         0\n",
      "                 мнения       0.05      0.33      0.08         6\n",
      "             не по теме       0.97      0.55      0.70       522\n",
      "               политика       0.47      0.69      0.56        80\n",
      "                проекты       0.00      0.00      0.00         0\n",
      "               торговля       0.17      0.57      0.26         7\n",
      "\n",
      "               accuracy                           0.59       711\n",
      "              macro avg       0.22      0.41      0.24       711\n",
      "           weighted avg       0.83      0.59      0.66       711\n",
      "\n"
     ]
    }
   ],
   "source": [
    "tokens_all = [token[0] for token in freq_dict_sorted]\n",
    "\n",
    "vec = TfidfVectorizer(ngram_range=(1, 1), \n",
    "                      tokenizer=word_tokenize,\n",
    "                      vocabulary=tokens_all)\n",
    "bow = vec.fit_transform(X_train)\n",
    "clf = LogisticRegression(random_state=42)\n",
    "clf.fit(bow, y_train)\n",
    "pred_all = clf.predict(vec.transform(X_test))\n",
    "print(classification_report(pred_all, y_test, target_names=le.classes_))"
   ]
  },
  {
   "cell_type": "code",
   "execution_count": 17,
   "id": "bb523cb9",
   "metadata": {},
   "outputs": [],
   "source": [
    "tokens_high = [token[0] for token in freq_dict_sorted[:200]]\n",
    "\n",
    "vec = TfidfVectorizer(ngram_range=(1, 1), \n",
    "                      tokenizer=word_tokenize,\n",
    "                      vocabulary=tokens_high)\n",
    "bow = vec.fit_transform(X_train)\n",
    "clf = LogisticRegression(random_state=42)\n",
    "clf.fit(bow, y_train)\n",
    "pred_high = clf.predict(vec.transform(X_test))\n"
   ]
  },
  {
   "cell_type": "code",
   "execution_count": 18,
   "id": "1b530123",
   "metadata": {},
   "outputs": [],
   "source": [
    "preds_proba = pred_high_proba * 0.3 + pred_low_proba * 0.7"
   ]
  },
  {
   "cell_type": "code",
   "execution_count": 19,
   "id": "4e4dfeab",
   "metadata": {},
   "outputs": [
    {
     "name": "stdout",
     "output_type": "stream",
     "text": [
      "                         precision    recall  f1-score   support\n",
      "\n",
      "               COVID-19       0.78      0.79      0.79        81\n",
      "Международные отношения       0.31      0.50      0.38        36\n",
      "                 Россия       0.00      0.00      0.00         0\n",
      " Социологические опросы       0.00      0.00      0.00         0\n",
      "              аналитика       0.42      0.50      0.46        28\n",
      "       военная тематика       0.38      0.74      0.50        19\n",
      "             инвестиция       0.33      0.33      0.33         3\n",
      "         меры поддержки       0.10      0.33      0.15         3\n",
      "                 мнения       0.33      0.54      0.41        26\n",
      "             не по теме       0.92      0.68      0.78       397\n",
      "               политика       0.58      0.67      0.62       101\n",
      "                проекты       0.25      1.00      0.40         1\n",
      "               торговля       0.25      0.38      0.30        16\n",
      "\n",
      "               accuracy                           0.66       711\n",
      "              macro avg       0.36      0.50      0.39       711\n",
      "           weighted avg       0.75      0.66      0.69       711\n",
      "\n"
     ]
    }
   ],
   "source": [
    "print(classification_report(preds_proba.argmax(axis=1), y_test, target_names=le.classes_))"
   ]
  },
  {
   "cell_type": "markdown",
   "id": "773fce33",
   "metadata": {},
   "source": [
    "### Хэшинг векторизатор"
   ]
  },
  {
   "cell_type": "code",
   "execution_count": 20,
   "id": "2652dcd8",
   "metadata": {},
   "outputs": [
    {
     "name": "stdout",
     "output_type": "stream",
     "text": [
      "              precision    recall  f1-score   support\n",
      "\n",
      "           0       0.67      0.75      0.71        73\n",
      "           1       0.22      0.65      0.33        20\n",
      "           2       0.00      0.00      0.00         0\n",
      "           3       0.00      0.00      0.00         0\n",
      "           4       0.30      0.67      0.42        15\n",
      "           5       0.14      1.00      0.24         5\n",
      "           6       0.00      0.00      0.00         0\n",
      "           7       0.00      0.00      0.00         0\n",
      "           8       0.07      0.38      0.12         8\n",
      "           9       0.97      0.59      0.73       486\n",
      "          10       0.56      0.69      0.62        96\n",
      "          11       0.00      0.00      0.00         0\n",
      "          12       0.17      0.50      0.25         8\n",
      "\n",
      "    accuracy                           0.62       711\n",
      "   macro avg       0.24      0.40      0.26       711\n",
      "weighted avg       0.82      0.62      0.68       711\n",
      "\n"
     ]
    }
   ],
   "source": [
    "vec = HashingVectorizer(n_features=10000, \n",
    "                        tokenizer=word_tokenize)\n",
    "bow = vec.fit_transform(X_train)\n",
    "clf = LogisticRegression(random_state=42)\n",
    "clf.fit(bow, y_train)\n",
    "pred = clf.predict(vec.transform(X_test))\n",
    "print(classification_report(pred, y_test))"
   ]
  },
  {
   "cell_type": "markdown",
   "id": "8942821a",
   "metadata": {},
   "source": [
    "### GradientBoostingClassifier"
   ]
  },
  {
   "cell_type": "code",
   "execution_count": 21,
   "id": "25727f26",
   "metadata": {},
   "outputs": [],
   "source": [
    "from sklearn.ensemble import GradientBoostingClassifier"
   ]
  },
  {
   "cell_type": "code",
   "execution_count": 22,
   "id": "f3d92335",
   "metadata": {},
   "outputs": [
    {
     "name": "stdout",
     "output_type": "stream",
     "text": [
      "                         precision    recall  f1-score   support\n",
      "\n",
      "               COVID-19       0.73      0.69      0.71        87\n",
      "Международные отношения       0.24      0.44      0.31        32\n",
      "                 Россия       0.00      0.00      0.00         0\n",
      " Социологические опросы       0.00      0.00      0.00         0\n",
      "              аналитика       0.24      0.38      0.30        21\n",
      "       военная тематика       0.11      0.27      0.15        15\n",
      "             инвестиция       0.00      0.00      0.00         1\n",
      "         меры поддержки       0.10      0.20      0.13         5\n",
      "                 мнения       0.14      0.30      0.19        20\n",
      "             не по теме       0.85      0.63      0.72       397\n",
      "               политика       0.57      0.56      0.57       119\n",
      "                проекты       0.00      0.00      0.00         0\n",
      "               торговля       0.21      0.36      0.26        14\n",
      "\n",
      "               accuracy                           0.58       711\n",
      "              macro avg       0.24      0.29      0.26       711\n",
      "           weighted avg       0.69      0.58      0.62       711\n",
      "\n"
     ]
    }
   ],
   "source": [
    "tokens_high = [token[0] for token in freq_dict_sorted[:200]]\n",
    "\n",
    "vec = TfidfVectorizer(ngram_range=(1, 1), \n",
    "                      tokenizer=word_tokenize,\n",
    "                      vocabulary=tokens_high)\n",
    "bow = vec.fit_transform(X_train)\n",
    "clf = GradientBoostingClassifier(n_estimators=1000, random_state=42)\n",
    "clf.fit(bow, y_train)\n",
    "pred_high = clf.predict(vec.transform(X_test))\n",
    "pred_high_proba = clf.predict_proba(vec.transform(X_test))\n",
    "print(classification_report(pred_high, y_test, target_names=le.classes_))"
   ]
  }
 ],
 "metadata": {
  "kernelspec": {
   "display_name": "Python 3 (ipykernel)",
   "language": "python",
   "name": "python3"
  },
  "language_info": {
   "codemirror_mode": {
    "name": "ipython",
    "version": 3
   },
   "file_extension": ".py",
   "mimetype": "text/x-python",
   "name": "python",
   "nbconvert_exporter": "python",
   "pygments_lexer": "ipython3",
   "version": "3.9.12"
  },
  "vscode": {
   "interpreter": {
    "hash": "635dfeb705f2d4d7f90556bc9cbac123f0b8369fb5651e53b018236240779f5a"
   }
  }
 },
 "nbformat": 4,
 "nbformat_minor": 5
}
